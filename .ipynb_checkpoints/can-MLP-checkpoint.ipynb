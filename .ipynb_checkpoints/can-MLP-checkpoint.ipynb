{
 "cells": [
  {
   "cell_type": "code",
   "execution_count": null,
   "metadata": {},
   "outputs": [],
   "source": [
    "import pandas as pd\n",
    "from sklearn.model_selection import train_test_split\n",
    "\n",
    "def splitdataset(X, Y):\n",
    "    # Spliting the dataset into train and test\n",
    "    X_train, X_test, y_train, y_test = train_test_split(\n",
    "    X, Y, test_size=0.3, random_state=100)\n",
    "\n",
    "    return X_train, X_test, y_train, y_test"
   ]
  },
  {
   "cell_type": "code",
   "execution_count": null,
   "metadata": {},
   "outputs": [],
   "source": [
    "df = pd.read_csv('./attacks.csv',index_col=0)\n",
    "df.head()"
   ]
  },
  {
   "cell_type": "code",
   "execution_count": null,
   "metadata": {},
   "outputs": [],
   "source": [
    "import numpy as np\n",
    "N = 3\n",
    "print(df.shape)\n",
    "row_reduce = df\n",
    "for i in range (0, N):\n",
    "    remove_n = row_reduce.shape[0] // 2\n",
    "    drop_indices = np.random.choice(row_reduce.index, remove_n, replace=False)\n",
    "    row_reduce = row_reduce.drop(drop_indices)\n",
    "\n",
    "df = row_reduce\n",
    "df.shape"
   ]
  },
  {
   "cell_type": "code",
   "execution_count": null,
   "metadata": {},
   "outputs": [],
   "source": [
    "df[\"Flag\"] = df[\"Flag\"].replace(['normal'], 0)\n",
    "df[\"Flag\"] = df['Flag'].replace(['DoS'], 1)\n",
    "df[\"Flag\"] = df['Flag'].replace(['fuzzy'], 2)\n",
    "df[\"Flag\"] = df['Flag'].replace(['gear'], 3)\n",
    "df[\"Flag\"] = df['Flag'].replace(['rpm'], 4)"
   ]
  },
  {
   "cell_type": "code",
   "execution_count": null,
   "metadata": {},
   "outputs": [],
   "source": [
    "y = df[\"Flag\"]\n",
    "X = df.drop(columns = 'Flag')\n",
    "df = None\n",
    "X = pd.get_dummies(X)"
   ]
  },
  {
   "cell_type": "code",
   "execution_count": null,
   "metadata": {},
   "outputs": [],
   "source": [
    "X_train, X_test, y_train, y_test = splitdataset(X, y)"
   ]
  },
  {
   "cell_type": "code",
   "execution_count": null,
   "metadata": {},
   "outputs": [],
   "source": [
    "from sklearn.neural_network import MLPClassifier\n",
    "\n",
    "clf = MLPClassifier(solver='lbfgs', alpha=1e-5, hidden_layer_sizes=(150, 50), random_state=1)\n",
    "clf.fit(X_train, y_train)"
   ]
  },
  {
   "cell_type": "code",
   "execution_count": null,
   "metadata": {},
   "outputs": [],
   "source": [
    "y_pred = clf.predict(X_test)"
   ]
  },
  {
   "cell_type": "code",
   "execution_count": null,
   "metadata": {},
   "outputs": [],
   "source": [
    "y_pred"
   ]
  },
  {
   "cell_type": "code",
   "execution_count": null,
   "metadata": {},
   "outputs": [],
   "source": [
    "import numpy as np\n",
    "from sklearn.model_selection import learning_curve\n",
    "\n",
    "param_range = [50, 100, 500, 1000, 5000, 10000, 50000, 100000]\n",
    "\n",
    "train_sizes, train_scores_svm, valid_scores_svm = learning_curve(MLPClassifier(solver='lbfgs', alpha=1e-5, hidden_layer_sizes=(150, 50), random_state=1),\n",
    "                                                                 X_test, y_test), \n",
    "                                                                 train_sizes= param_range, \n",
    "                                                                 cv=5)\n",
    "\n",
    "train_mean_svm = np.mean(train_scores_svm, axis=1)\n",
    "train_std_svm = np.std(train_scores_svm, axis=1)\n",
    "test_mean_svm = np.mean(valid_scores_svm, axis=1)\n",
    "test_std_svm = np.std(valid_scores_svm, axis=1)"
   ]
  },
  {
   "cell_type": "code",
   "execution_count": null,
   "metadata": {},
   "outputs": [],
   "source": [
    "plt.plot(param_range, train_mean_256, label=\"Training score (256)\", color=\"red\")\n",
    "plt.plot(param_range, test_mean_256, label=\"Cross-validation score (256)\", color=\"green\")\n",
    "\n",
    "# Create plot\n",
    "plt.title(\"Validation Curve With Decision Tree\")\n",
    "plt.xlabel(\"Trees\")\n",
    "plt.ylabel(\"Accuracy Score\")\n",
    "plt.axis([0, 100, 0.9836, 0.984])\n",
    "plt.legend(loc=\"best\")\n",
    "plt.show()"
   ]
  },
  {
   "cell_type": "code",
   "execution_count": null,
   "metadata": {},
   "outputs": [],
   "source": []
  }
 ],
 "metadata": {
  "kernelspec": {
   "display_name": "conda_python3",
   "language": "python",
   "name": "conda_python3"
  },
  "language_info": {
   "codemirror_mode": {
    "name": "ipython",
    "version": 3
   },
   "file_extension": ".py",
   "mimetype": "text/x-python",
   "name": "python",
   "nbconvert_exporter": "python",
   "pygments_lexer": "ipython3",
   "version": "3.6.5"
  }
 },
 "nbformat": 4,
 "nbformat_minor": 4
}
